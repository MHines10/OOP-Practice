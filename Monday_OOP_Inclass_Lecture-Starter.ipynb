{
 "cells": [
  {
   "cell_type": "markdown",
   "metadata": {},
   "source": [
    "# Object-Oriented-Programming (OOP)"
   ]
  },
  {
   "cell_type": "markdown",
   "metadata": {},
   "source": [
    "## Tasks Today:\n",
    "\n",
    "   \n",
    "\n",
    "1) <b>Creating a Class (Initializing/Declaring)</b> <br>\n",
    "2) <b>Using a Class (Instantiating)</b> <br>\n",
    " &nbsp;&nbsp;&nbsp;&nbsp; a) Creating One Instance <br>\n",
    " &nbsp;&nbsp;&nbsp;&nbsp; b) Creating Multiple Instances <br>\n",
    " &nbsp;&nbsp;&nbsp;&nbsp; c) In-Class Exercise #1 - Create a Class 'Car' and instantiate three different makes of cars <br>\n",
    "3) <b>The \\__init\\__() Method</b> <br>\n",
    " &nbsp;&nbsp;&nbsp;&nbsp; a) The 'self' Attribute <br>\n",
    "4) <b>Class Attributes</b> <br>\n",
    " &nbsp;&nbsp;&nbsp;&nbsp; a) Initializing Attributes <br>\n",
    " &nbsp;&nbsp;&nbsp;&nbsp; b) Setting an Attribute Outside of the \\__init\\__() Method <br>\n",
    " &nbsp;&nbsp;&nbsp;&nbsp; c) Setting Defaults for Attributes <br>\n",
    " &nbsp;&nbsp;&nbsp;&nbsp; d) Accessing Class Attributes <br>\n",
    " &nbsp;&nbsp;&nbsp;&nbsp; e) Changing Class Attributes <br>\n",
    " &nbsp;&nbsp;&nbsp;&nbsp; f) In-Class Exercise #2 - Add a color and wheels attribute to your 'Car' class <br>\n",
    "5) <b>Class Methods</b> <br>\n",
    " &nbsp;&nbsp;&nbsp;&nbsp; a) Creating <br>\n",
    " &nbsp;&nbsp;&nbsp;&nbsp; b) Calling <br>\n",
    " &nbsp;&nbsp;&nbsp;&nbsp; c) Modifying an Attribute's Value Through a Method <br>\n",
    " &nbsp;&nbsp;&nbsp;&nbsp; d) Incrementing an Attribute's Value Through a Method <br>\n",
    " &nbsp;&nbsp;&nbsp;&nbsp; e) In-Class Exercise #3 - Add a method that prints the cars color and wheel number, then call them <br>\n",
    "6) <b>Inheritance</b> <br>\n",
    " &nbsp;&nbsp;&nbsp;&nbsp; a) Syntax for Inheriting from a Parent Class <br>\n",
    " &nbsp;&nbsp;&nbsp;&nbsp; b) The \\__init\\__() Method for a Child Class (super()) <br>\n",
    " &nbsp;&nbsp;&nbsp;&nbsp; c) Defining Attributes and Methods for the Child Class <br>\n",
    " &nbsp;&nbsp;&nbsp;&nbsp; d) Method Overriding <br>\n",
    " &nbsp;&nbsp;&nbsp;&nbsp; e) In-Class Exercise #4 - Create a class 'Ford' that inherits from 'Car' class and initialize it as a Blue Ford Explorer with 4 wheels using the super() method <br>\n",
    "7) <b>Classes as Attributes</b> <br>\n",
    "8) <b>Exercises</b> <br>\n",
    " &nbsp;&nbsp;&nbsp;&nbsp; a) Exercise #1 - Turn the shopping cart program from yesterday into an object-oriented program <br>"
   ]
  },
  {
   "cell_type": "code",
   "execution_count": 1,
   "metadata": {},
   "outputs": [
    {
     "name": "stdout",
     "output_type": "stream",
     "text": [
      "Help on class object in module builtins:\n",
      "\n",
      "class object\n",
      " |  The base class of the class hierarchy.\n",
      " |  \n",
      " |  When called, it accepts no arguments and returns a new featureless\n",
      " |  instance that has no instance attributes and cannot be given any.\n",
      " |  \n",
      " |  Built-in subclasses:\n",
      " |      ArgNotFound\n",
      " |      async_generator\n",
      " |      BaseException\n",
      " |      builtin_function_or_method\n",
      " |      ... and 117 other subclasses\n",
      " |  \n",
      " |  Methods defined here:\n",
      " |  \n",
      " |  __delattr__(self, name, /)\n",
      " |      Implement delattr(self, name).\n",
      " |  \n",
      " |  __dir__(self, /)\n",
      " |      Default dir() implementation.\n",
      " |  \n",
      " |  __eq__(self, value, /)\n",
      " |      Return self==value.\n",
      " |  \n",
      " |  __format__(self, format_spec, /)\n",
      " |      Default object formatter.\n",
      " |  \n",
      " |  __ge__(self, value, /)\n",
      " |      Return self>=value.\n",
      " |  \n",
      " |  __getattribute__(self, name, /)\n",
      " |      Return getattr(self, name).\n",
      " |  \n",
      " |  __gt__(self, value, /)\n",
      " |      Return self>value.\n",
      " |  \n",
      " |  __hash__(self, /)\n",
      " |      Return hash(self).\n",
      " |  \n",
      " |  __init__(self, /, *args, **kwargs)\n",
      " |      Initialize self.  See help(type(self)) for accurate signature.\n",
      " |  \n",
      " |  __le__(self, value, /)\n",
      " |      Return self<=value.\n",
      " |  \n",
      " |  __lt__(self, value, /)\n",
      " |      Return self<value.\n",
      " |  \n",
      " |  __ne__(self, value, /)\n",
      " |      Return self!=value.\n",
      " |  \n",
      " |  __reduce__(self, /)\n",
      " |      Helper for pickle.\n",
      " |  \n",
      " |  __reduce_ex__(self, protocol, /)\n",
      " |      Helper for pickle.\n",
      " |  \n",
      " |  __repr__(self, /)\n",
      " |      Return repr(self).\n",
      " |  \n",
      " |  __setattr__(self, name, value, /)\n",
      " |      Implement setattr(self, name, value).\n",
      " |  \n",
      " |  __sizeof__(self, /)\n",
      " |      Size of object in memory, in bytes.\n",
      " |  \n",
      " |  __str__(self, /)\n",
      " |      Return str(self).\n",
      " |  \n",
      " |  ----------------------------------------------------------------------\n",
      " |  Class methods defined here:\n",
      " |  \n",
      " |  __init_subclass__(...) from builtins.type\n",
      " |      This method is called when a class is subclassed.\n",
      " |      \n",
      " |      The default implementation does nothing. It may be\n",
      " |      overridden to extend subclasses.\n",
      " |  \n",
      " |  __subclasshook__(...) from builtins.type\n",
      " |      Abstract classes can override this to customize issubclass().\n",
      " |      \n",
      " |      This is invoked early on by abc.ABCMeta.__subclasscheck__().\n",
      " |      It should return True, False or NotImplemented.  If it returns\n",
      " |      NotImplemented, the normal algorithm is used.  Otherwise, it\n",
      " |      overrides the normal algorithm (and the outcome is cached).\n",
      " |  \n",
      " |  ----------------------------------------------------------------------\n",
      " |  Static methods defined here:\n",
      " |  \n",
      " |  __new__(*args, **kwargs) from builtins.type\n",
      " |      Create and return a new object.  See help(type) for accurate signature.\n",
      " |  \n",
      " |  ----------------------------------------------------------------------\n",
      " |  Data and other attributes defined here:\n",
      " |  \n",
      " |  __class__ = <class 'type'>\n",
      " |      type(object) -> the object's type\n",
      " |      type(name, bases, dict, **kwds) -> a new type\n",
      "\n"
     ]
    }
   ],
   "source": [
    "help(object)"
   ]
  },
  {
   "cell_type": "markdown",
   "metadata": {},
   "source": [
    "#### Object-Oriented Programming"
   ]
  },
  {
   "cell_type": "markdown",
   "metadata": {},
   "source": [
    "Object-Oriented Programming (OOP) allows us to create programs so that that properties and behaviors are bundled into **objects**. OOP models real-world entities as software objects that have some data associated with them and can perform certain functions."
   ]
  },
  {
   "cell_type": "markdown",
   "metadata": {},
   "source": [
    "## Creating a Class (Initializing/Declaring)\n",
    "<p>When creating a class, function, or even a variable you are initializing that object. Initializing and Declaring occur at the same time in Python, whereas in lower level languages you have to declare an object before initializing it. This is the first step in the process of using a class.</p>"
   ]
  },
  {
   "cell_type": "code",
   "execution_count": 2,
   "metadata": {},
   "outputs": [
    {
     "name": "stdout",
     "output_type": "stream",
     "text": [
      "<class 'str'>\n"
     ]
    }
   ],
   "source": [
    "name = \"monti\"\n",
    "print(type(name))\n",
    "\n"
   ]
  },
  {
   "cell_type": "code",
   "execution_count": 3,
   "metadata": {
    "scrolled": true
   },
   "outputs": [
    {
     "name": "stdout",
     "output_type": "stream",
     "text": [
      "Help on class My_Class in module __main__:\n",
      "\n",
      "class My_Class(builtins.object)\n",
      " |  Data descriptors defined here:\n",
      " |  \n",
      " |  __dict__\n",
      " |      dictionary for instance variables (if defined)\n",
      " |  \n",
      " |  __weakref__\n",
      " |      list of weak references to the object (if defined)\n",
      "\n"
     ]
    }
   ],
   "source": [
    "# Syntax: class Classname(): or class Classname:  *always capitalize our class names! pep8 guidelines\n",
    "\n",
    "class My_Class:\n",
    "    pass\n",
    "\n",
    "help(My_Class)"
   ]
  },
  {
   "cell_type": "code",
   "execution_count": 4,
   "metadata": {},
   "outputs": [
    {
     "name": "stdout",
     "output_type": "stream",
     "text": [
      "{'__module__': '__main__', '__dict__': <attribute '__dict__' of 'My_Class' objects>, '__weakref__': <attribute '__weakref__' of 'My_Class' objects>, '__doc__': None}\n"
     ]
    }
   ],
   "source": [
    "print(My_Class.__dict__)"
   ]
  },
  {
   "cell_type": "markdown",
   "metadata": {},
   "source": [
    "## Using a Class (Instantiating)\n",
    "<p>The process of creating a class is called <i>Instantiating</i>. Each time you create a variable of that type of class, it is referred to as an <i>Instance</i> of that class. This is the second step in the process of using a class.</p>"
   ]
  },
  {
   "cell_type": "code",
   "execution_count": 7,
   "metadata": {},
   "outputs": [
    {
     "name": "stdout",
     "output_type": "stream",
     "text": [
      "Help on class list in module builtins:\n",
      "\n",
      "class list(object)\n",
      " |  list(iterable=(), /)\n",
      " |  \n",
      " |  Built-in mutable sequence.\n",
      " |  \n",
      " |  If no argument is given, the constructor creates a new empty list.\n",
      " |  The argument must be an iterable if specified.\n",
      " |  \n",
      " |  Methods defined here:\n",
      " |  \n",
      " |  __add__(self, value, /)\n",
      " |      Return self+value.\n",
      " |  \n",
      " |  __contains__(self, key, /)\n",
      " |      Return key in self.\n",
      " |  \n",
      " |  __delitem__(self, key, /)\n",
      " |      Delete self[key].\n",
      " |  \n",
      " |  __eq__(self, value, /)\n",
      " |      Return self==value.\n",
      " |  \n",
      " |  __ge__(self, value, /)\n",
      " |      Return self>=value.\n",
      " |  \n",
      " |  __getattribute__(self, name, /)\n",
      " |      Return getattr(self, name).\n",
      " |  \n",
      " |  __getitem__(...)\n",
      " |      x.__getitem__(y) <==> x[y]\n",
      " |  \n",
      " |  __gt__(self, value, /)\n",
      " |      Return self>value.\n",
      " |  \n",
      " |  __iadd__(self, value, /)\n",
      " |      Implement self+=value.\n",
      " |  \n",
      " |  __imul__(self, value, /)\n",
      " |      Implement self*=value.\n",
      " |  \n",
      " |  __init__(self, /, *args, **kwargs)\n",
      " |      Initialize self.  See help(type(self)) for accurate signature.\n",
      " |  \n",
      " |  __iter__(self, /)\n",
      " |      Implement iter(self).\n",
      " |  \n",
      " |  __le__(self, value, /)\n",
      " |      Return self<=value.\n",
      " |  \n",
      " |  __len__(self, /)\n",
      " |      Return len(self).\n",
      " |  \n",
      " |  __lt__(self, value, /)\n",
      " |      Return self<value.\n",
      " |  \n",
      " |  __mul__(self, value, /)\n",
      " |      Return self*value.\n",
      " |  \n",
      " |  __ne__(self, value, /)\n",
      " |      Return self!=value.\n",
      " |  \n",
      " |  __repr__(self, /)\n",
      " |      Return repr(self).\n",
      " |  \n",
      " |  __reversed__(self, /)\n",
      " |      Return a reverse iterator over the list.\n",
      " |  \n",
      " |  __rmul__(self, value, /)\n",
      " |      Return value*self.\n",
      " |  \n",
      " |  __setitem__(self, key, value, /)\n",
      " |      Set self[key] to value.\n",
      " |  \n",
      " |  __sizeof__(self, /)\n",
      " |      Return the size of the list in memory, in bytes.\n",
      " |  \n",
      " |  append(self, object, /)\n",
      " |      Append object to the end of the list.\n",
      " |  \n",
      " |  clear(self, /)\n",
      " |      Remove all items from list.\n",
      " |  \n",
      " |  copy(self, /)\n",
      " |      Return a shallow copy of the list.\n",
      " |  \n",
      " |  count(self, value, /)\n",
      " |      Return number of occurrences of value.\n",
      " |  \n",
      " |  extend(self, iterable, /)\n",
      " |      Extend list by appending elements from the iterable.\n",
      " |  \n",
      " |  index(self, value, start=0, stop=9223372036854775807, /)\n",
      " |      Return first index of value.\n",
      " |      \n",
      " |      Raises ValueError if the value is not present.\n",
      " |  \n",
      " |  insert(self, index, object, /)\n",
      " |      Insert object before index.\n",
      " |  \n",
      " |  pop(self, index=-1, /)\n",
      " |      Remove and return item at index (default last).\n",
      " |      \n",
      " |      Raises IndexError if list is empty or index is out of range.\n",
      " |  \n",
      " |  remove(self, value, /)\n",
      " |      Remove first occurrence of value.\n",
      " |      \n",
      " |      Raises ValueError if the value is not present.\n",
      " |  \n",
      " |  reverse(self, /)\n",
      " |      Reverse *IN PLACE*.\n",
      " |  \n",
      " |  sort(self, /, *, key=None, reverse=False)\n",
      " |      Sort the list in ascending order and return None.\n",
      " |      \n",
      " |      The sort is in-place (i.e. the list itself is modified) and stable (i.e. the\n",
      " |      order of two equal elements is maintained).\n",
      " |      \n",
      " |      If a key function is given, apply it once to each list item and sort them,\n",
      " |      ascending or descending, according to their function values.\n",
      " |      \n",
      " |      The reverse flag can be set to sort in descending order.\n",
      " |  \n",
      " |  ----------------------------------------------------------------------\n",
      " |  Class methods defined here:\n",
      " |  \n",
      " |  __class_getitem__(...) from builtins.type\n",
      " |      See PEP 585\n",
      " |  \n",
      " |  ----------------------------------------------------------------------\n",
      " |  Static methods defined here:\n",
      " |  \n",
      " |  __new__(*args, **kwargs) from builtins.type\n",
      " |      Create and return a new object.  See help(type) for accurate signature.\n",
      " |  \n",
      " |  ----------------------------------------------------------------------\n",
      " |  Data and other attributes defined here:\n",
      " |  \n",
      " |  __hash__ = None\n",
      "\n"
     ]
    }
   ],
   "source": [
    "help(list)"
   ]
  },
  {
   "cell_type": "code",
   "execution_count": 5,
   "metadata": {},
   "outputs": [
    {
     "name": "stdout",
     "output_type": "stream",
     "text": [
      "1720850961984\n",
      "1720850963328\n"
     ]
    }
   ],
   "source": [
    "#creating 2 insrances of athe list class\n",
    "alist = [1,2,3,4]\n",
    "blist = [5,6,7,8]\n",
    "\n",
    "print(id(alist))\n",
    "print(id(blist))"
   ]
  },
  {
   "cell_type": "code",
   "execution_count": 6,
   "metadata": {},
   "outputs": [
    {
     "name": "stdout",
     "output_type": "stream",
     "text": [
      "[1, 2, 3, 4]\n",
      "[5, 6, 7, 8]\n",
      "[1, 2, 3, 4, 100]\n",
      "[5, 6, 7, 8]\n"
     ]
    }
   ],
   "source": [
    "print(alist)\n",
    "print(blist)\n",
    "alist.append(100)\n",
    "print(alist)\n",
    "print(blist)"
   ]
  },
  {
   "cell_type": "markdown",
   "metadata": {},
   "source": [
    "##### Creating One Instance"
   ]
  },
  {
   "cell_type": "code",
   "execution_count": 15,
   "metadata": {},
   "outputs": [
    {
     "name": "stdout",
     "output_type": "stream",
     "text": [
      "<__main__.My_Class object at 0x00000190AAB3D220>\n"
     ]
    }
   ],
   "source": [
    "# syntax: variable = ClassName()\n",
    "\n",
    "a1 = My_Class()\n",
    "\n",
    "print(a1)"
   ]
  },
  {
   "cell_type": "markdown",
   "metadata": {},
   "source": [
    "##### Creating Multiple Instances"
   ]
  },
  {
   "cell_type": "code",
   "execution_count": 16,
   "metadata": {},
   "outputs": [
    {
     "name": "stdout",
     "output_type": "stream",
     "text": [
      "<__main__.My_Class object at 0x00000190AABA6370>\n",
      "<__main__.My_Class object at 0x00000190AAB96A30>\n"
     ]
    }
   ],
   "source": [
    "a2 = My_Class()\n",
    "print(a2)\n",
    "\n",
    "a3 = My_Class()\n",
    "print(a3)"
   ]
  },
  {
   "cell_type": "code",
   "execution_count": 19,
   "metadata": {},
   "outputs": [
    {
     "ename": "TypeError",
     "evalue": "isinstance expected 2 arguments, got 1",
     "output_type": "error",
     "traceback": [
      "\u001b[1;31m---------------------------------------------------------------------------\u001b[0m",
      "\u001b[1;31mTypeError\u001b[0m                                 Traceback (most recent call last)",
      "\u001b[1;32m~\\AppData\\Local\\Temp\\ipykernel_8360\\1599093005.py\u001b[0m in \u001b[0;36m<module>\u001b[1;34m\u001b[0m\n\u001b[1;32m----> 1\u001b[1;33m \u001b[0misinstance\u001b[0m\u001b[1;33m(\u001b[0m\u001b[0mMy_Class\u001b[0m\u001b[1;33m)\u001b[0m\u001b[1;33m\u001b[0m\u001b[1;33m\u001b[0m\u001b[0m\n\u001b[0m",
      "\u001b[1;31mTypeError\u001b[0m: isinstance expected 2 arguments, got 1"
     ]
    }
   ],
   "source": [
    "isinstance(My_Class)"
   ]
  },
  {
   "cell_type": "markdown",
   "metadata": {},
   "source": [
    "##### Adding attributes to instances"
   ]
  },
  {
   "cell_type": "code",
   "execution_count": 21,
   "metadata": {},
   "outputs": [
    {
     "name": "stdout",
     "output_type": "stream",
     "text": [
      "a1: {'firstname': 'john', 'lastname': 'smith'}\n",
      "a2: {'firstname': 'jane', 'lastname': 'doe'}\n"
     ]
    }
   ],
   "source": [
    "#syntax: instance_var_name.attribute_name = value\n",
    "\n",
    "a1.firstname = 'john'\n",
    "a1.lastname = 'smith'\n",
    "\n",
    "a2.firstname = 'jane'\n",
    "a2.lastname = 'doe'\n",
    "\n",
    "print('a1:', a1.__dict__)\n",
    "print('a2:', a2.__dict__)\n",
    "\n",
    "\n",
    "\n"
   ]
  },
  {
   "cell_type": "markdown",
   "metadata": {},
   "source": [
    "### Accessing Attributes to instances"
   ]
  },
  {
   "cell_type": "code",
   "execution_count": 22,
   "metadata": {},
   "outputs": [
    {
     "name": "stdout",
     "output_type": "stream",
     "text": [
      "john\n",
      "doe\n"
     ]
    }
   ],
   "source": [
    "#syntax: instance_var_name.attribute_name\n",
    "\n",
    "print(a1.firstname)\n",
    "print(a2.lastname)"
   ]
  },
  {
   "cell_type": "markdown",
   "metadata": {},
   "source": [
    "##### In-Class Exercise #1 - Create a Class 'Car' and Instantiate three different car instances. Add a different make for each car."
   ]
  },
  {
   "cell_type": "code",
   "execution_count": 26,
   "metadata": {},
   "outputs": [
    {
     "name": "stdout",
     "output_type": "stream",
     "text": [
      "Honda\n",
      "Hyundai\n",
      "Toyota\n",
      "<__main__.Car object at 0x00000190AABA6490> Honda\n",
      "<__main__.Car object at 0x00000190AABA6160> Hyundai\n",
      "<__main__.Car object at 0x00000190AABA6D90> Toyota\n"
     ]
    }
   ],
   "source": [
    "class Car(): #create a Car class\n",
    "    pass\n",
    "\n",
    "car1 = Car() #create 1 instance of car\n",
    "car2 = Car() #create 1 instance of car\n",
    "car3 = Car() #create 1 instance of car\n",
    "\n",
    "car1.make = 'Honda' #add a make attribute to car1 instance\n",
    "car2.make = 'Hyundai' #add a make attribute to car2 instance\n",
    "car3.make = 'Toyota' #add a make attribute to car3 instance\n",
    "\n",
    "print(car1.make)\n",
    "print(car2.make)\n",
    "print(car3.make)\n",
    "\n",
    "cars = [car1, car2, car3]\n",
    "for c in cars:\n",
    "    print(c, c.make)"
   ]
  },
  {
   "cell_type": "markdown",
   "metadata": {},
   "source": [
    "## The \\__init\\__() Method <br>\n",
    "<p>This method is used in almost every created class, and called only once upon the creation of the class instance. This method will initialize all variables needed for the object.</p>"
   ]
  },
  {
   "cell_type": "markdown",
   "metadata": {},
   "source": [
    "##### The 'self' Attribute <br>\n",
    "<p>This attribute is required to keep track of specific instance's attributes. Without the self attribute, the program would not know how to reference or keep track of an instance's attributes.</p>"
   ]
  },
  {
   "cell_type": "code",
   "execution_count": 27,
   "metadata": {},
   "outputs": [
    {
     "name": "stdout",
     "output_type": "stream",
     "text": [
      "Help on method_descriptor:\n",
      "\n",
      "upper(self, /)\n",
      "    Return a copy of the string converted to uppercase.\n",
      "\n"
     ]
    }
   ],
   "source": [
    "help(str.upper)"
   ]
  },
  {
   "cell_type": "code",
   "execution_count": 29,
   "metadata": {},
   "outputs": [
    {
     "name": "stdout",
     "output_type": "stream",
     "text": [
      "MONTI Hines\n"
     ]
    }
   ],
   "source": [
    "name1 = 'monti'\n",
    "name2 = 'hines'\n",
    "print(name1.upper(), name2.title())"
   ]
  },
  {
   "cell_type": "code",
   "execution_count": 30,
   "metadata": {},
   "outputs": [
    {
     "data": {
      "text/plain": [
       "'MONTI'"
      ]
     },
     "execution_count": 30,
     "metadata": {},
     "output_type": "execute_result"
    }
   ],
   "source": [
    "str.upper(name1)"
   ]
  },
  {
   "cell_type": "code",
   "execution_count": null,
   "metadata": {},
   "outputs": [],
   "source": [
    "class Car():\n",
    "    def __init__(self):\n",
    "        print(\"Hello I am creating a new student!\")"
   ]
  },
  {
   "cell_type": "code",
   "execution_count": null,
   "metadata": {},
   "outputs": [],
   "source": []
  },
  {
   "cell_type": "code",
   "execution_count": null,
   "metadata": {},
   "outputs": [],
   "source": []
  },
  {
   "cell_type": "code",
   "execution_count": null,
   "metadata": {},
   "outputs": [],
   "source": []
  },
  {
   "cell_type": "markdown",
   "metadata": {},
   "source": [
    "## Class Attributes <br>\n",
    "<p>While variables are inside of a class, they are referred to as attributes and not variables. When someone says 'attribute' you know they're speaking about a class. Attributes can be initialized through the init method, or outside of it.</p>"
   ]
  },
  {
   "cell_type": "markdown",
   "metadata": {},
   "source": [
    "##### Initializing Attributes"
   ]
  },
  {
   "cell_type": "code",
   "execution_count": 33,
   "metadata": {},
   "outputs": [],
   "source": [
    "class Truck():\n",
    "    wheels = 4 #class attribute\n",
    "    def __init__(self, color, make):\n",
    "        self.color = color #instance attribute\n",
    "        self.make = make #instance attribute\n",
    "        \n",
    "truck1 = Truck('red', 'chevy')\n",
    "truck2 = Truck('blue', 'Toyota')"
   ]
  },
  {
   "cell_type": "code",
   "execution_count": 36,
   "metadata": {},
   "outputs": [
    {
     "name": "stdout",
     "output_type": "stream",
     "text": [
      "{'color': 'red', 'make': 'chevy'}\n",
      "{'color': 'blue', 'make': 'Toyota'}\n"
     ]
    }
   ],
   "source": [
    "print(truck1.__dict__)\n",
    "print(truck2.__dict__)"
   ]
  },
  {
   "cell_type": "code",
   "execution_count": 37,
   "metadata": {},
   "outputs": [
    {
     "name": "stdout",
     "output_type": "stream",
     "text": [
      "red\n",
      "chevy\n",
      "4\n"
     ]
    }
   ],
   "source": [
    "print(truck1.color)\n",
    "print(truck1.make)\n",
    "print(truck1.wheels)"
   ]
  },
  {
   "cell_type": "code",
   "execution_count": 38,
   "metadata": {
    "scrolled": true
   },
   "outputs": [
    {
     "name": "stdout",
     "output_type": "stream",
     "text": [
      "{'__module__': '__main__', 'wheels': 4, '__init__': <function Truck.__init__ at 0x00000190AABA8E50>, '__dict__': <attribute '__dict__' of 'Truck' objects>, '__weakref__': <attribute '__weakref__' of 'Truck' objects>, '__doc__': None}\n"
     ]
    }
   ],
   "source": [
    "print(Truck.__dict__)"
   ]
  },
  {
   "cell_type": "markdown",
   "metadata": {},
   "source": [
    "##### Accessing Class Attributes"
   ]
  },
  {
   "cell_type": "code",
   "execution_count": 40,
   "metadata": {
    "scrolled": true
   },
   "outputs": [
    {
     "name": "stdout",
     "output_type": "stream",
     "text": [
      "4\n"
     ]
    }
   ],
   "source": [
    "# See Above - same as accessing instance attributes -- instance_var.attribute_name\n",
    "#access straight from the class - ClassName.attribute_name\n",
    "print(Truck.wheels)"
   ]
  },
  {
   "cell_type": "markdown",
   "metadata": {},
   "source": [
    "##### Setting Defaults for Attributes"
   ]
  },
  {
   "cell_type": "code",
   "execution_count": 41,
   "metadata": {},
   "outputs": [],
   "source": [
    "class Bike:\n",
    "    \n",
    "    def __init__(self, color, brand = 'Husky'): #brand is default param\n",
    "        self.color = color\n",
    "        self.brand = brand\n",
    "        self.wheels = 2 #hard-code 2 as wheels\n",
    "        \n",
    "mybike = Bike('blue')\n",
    "yourbike = Bike('red', 'Giant')"
   ]
  },
  {
   "cell_type": "code",
   "execution_count": 42,
   "metadata": {},
   "outputs": [
    {
     "name": "stdout",
     "output_type": "stream",
     "text": [
      "{'color': 'blue', 'brand': 'Husky', 'wheels': 2}\n",
      "{'color': 'red', 'brand': 'Giant', 'wheels': 2}\n"
     ]
    }
   ],
   "source": [
    "print(mybike.__dict__)\n",
    "print(yourbike.__dict__)"
   ]
  },
  {
   "cell_type": "markdown",
   "metadata": {},
   "source": [
    "##### Changing Class Attributes <br>\n",
    "<p>Keep in mind there are global class attributes and then there are attributes only available to each class instance which won't effect other instances.</p>"
   ]
  },
  {
   "cell_type": "code",
   "execution_count": 64,
   "metadata": {},
   "outputs": [],
   "source": [
    "class Truck():\n",
    "    wheels = 4 #class attribute\n",
    "    def __init__(self, color, make):\n",
    "        self.color = color #instance attribute\n",
    "        self.make = make #instance attribute"
   ]
  },
  {
   "cell_type": "code",
   "execution_count": 65,
   "metadata": {},
   "outputs": [],
   "source": [
    "#create 2 instance of truck class\n",
    "truck1 = Truck('gold', 'Honda')\n",
    "truck2 = Truck('silver', 'Toyota')"
   ]
  },
  {
   "cell_type": "code",
   "execution_count": 66,
   "metadata": {},
   "outputs": [
    {
     "name": "stdout",
     "output_type": "stream",
     "text": [
      "4\n",
      "4\n",
      "=========================\n",
      "{'color': 'gold', 'make': 'Honda'}\n",
      "{'color': 'silver', 'make': 'Toyota'}\n"
     ]
    }
   ],
   "source": [
    "print(truck1.wheels)\n",
    "print(truck2.wheels)\n",
    "print('='*25)\n",
    "print(truck1.__dict__)\n",
    "print(truck2.__dict__)"
   ]
  },
  {
   "cell_type": "code",
   "execution_count": 67,
   "metadata": {},
   "outputs": [
    {
     "name": "stdout",
     "output_type": "stream",
     "text": [
      "16\n",
      "4\n",
      "=========================\n",
      "{'color': 'gold', 'make': 'Honda', 'wheels': 16}\n",
      "{'color': 'silver', 'make': 'Toyota'}\n"
     ]
    }
   ],
   "source": [
    "truck1.wheels = 16 #sets an INSTANCE ATTRIBUTE on truck1\n",
    "\n",
    "print(truck1.wheels)\n",
    "print(truck2.wheels)\n",
    "print('='*25)\n",
    "print(truck1.__dict__)\n",
    "print(truck2.__dict__)"
   ]
  },
  {
   "cell_type": "code",
   "execution_count": 68,
   "metadata": {},
   "outputs": [
    {
     "name": "stdout",
     "output_type": "stream",
     "text": [
      "16\n",
      "24\n",
      "=========================\n",
      "{'color': 'gold', 'make': 'Honda', 'wheels': 16}\n",
      "{'color': 'silver', 'make': 'Toyota'}\n"
     ]
    }
   ],
   "source": [
    "Truck.wheels = 24 #sets a CLASS ATTRIBUTE on the Truck Class\n",
    "\n",
    "print(truck1.wheels)\n",
    "print(truck2.wheels)\n",
    "print('='*25)\n",
    "print(truck1.__dict__)\n",
    "print(truck2.__dict__)"
   ]
  },
  {
   "cell_type": "markdown",
   "metadata": {},
   "source": [
    "##### In-Class Exercise 2 - Create an \\__init__ method for your Car class which takes in color and model with a default value for gas_level of 100. Your class should also have a class attribute for model. Once you have created the class, instantiate 3 different cars"
   ]
  },
  {
   "cell_type": "code",
   "execution_count": 76,
   "metadata": {},
   "outputs": [
    {
     "name": "stdout",
     "output_type": "stream",
     "text": [
      "{'make': 'Honda', 'model': 'Accord', 'color': 'Black', 'gas_level': 100}\n",
      "{'make': 'Nissan', 'model': 'Sentra', 'color': 'Red', 'gas_level': 50, 'engine': 'V6'}\n",
      "{'make': 'Toyota', 'model': 'Corolla', 'color': 'Silver', 'gas_level': 88}\n",
      "4\n",
      "2.5\n",
      "4\n",
      "V6\n",
      "4\n",
      "2.5\n"
     ]
    }
   ],
   "source": [
    "class Car():\n",
    "    wheels = 4\n",
    "    engine = 2.5\n",
    "    def __init__(self, make, model, color, gas_level = 100):\n",
    "        self.make = make\n",
    "        self.model = model\n",
    "        self.color = color\n",
    "        self.gas_level = gas_level\n",
    "        \n",
    "car1 = Car('Honda', 'Accord', 'Black')\n",
    "car2 = Car('Nissan', 'Sentra', 'Red', 50)\n",
    "car3 = Car('Toyota', 'Corolla', 'Silver', 88)\n",
    "\n",
    "car2.engine = 'V6'\n",
    "\n",
    "print(car1.__dict__)\n",
    "print(car2.__dict__)\n",
    "print(car3.__dict__)\n",
    "\n",
    "print(car1.wheels)\n",
    "print(car1.engine)\n",
    "print(car2.wheels)\n",
    "print(car2.engine)\n",
    "print(car3.wheels)\n",
    "print(car3.engine)"
   ]
  },
  {
   "cell_type": "markdown",
   "metadata": {},
   "source": [
    "## Class Methods <br>\n",
    "<p>While inside of a class, functions are referred to as 'methods'. If you hear someone mention methods, they're speaking about classes. Methods are essentially functions, but only callable on the instances of a class.</p>"
   ]
  },
  {
   "cell_type": "markdown",
   "metadata": {},
   "source": [
    "##### Creating"
   ]
  },
  {
   "cell_type": "code",
   "execution_count": null,
   "metadata": {},
   "outputs": [],
   "source": [
    "#syntax: class ClassName():\n",
    "#            def method_name(slef, params,ect):\n",
    "#                code to run when executed\n",
    "\n",
    "class Employee:\n",
    "    \n",
    "    def __init__(self, first, last, salary):\n",
    "        self.fiirst_name = first.title()\n",
    "        self"
   ]
  },
  {
   "cell_type": "code",
   "execution_count": null,
   "metadata": {},
   "outputs": [],
   "source": []
  },
  {
   "cell_type": "markdown",
   "metadata": {},
   "source": [
    "##### Calling"
   ]
  },
  {
   "cell_type": "code",
   "execution_count": null,
   "metadata": {},
   "outputs": [],
   "source": [
    "# Syntax: instance_var.method_name() or instance_var.method_name(arg1, ect.)"
   ]
  },
  {
   "cell_type": "code",
   "execution_count": 75,
   "metadata": {},
   "outputs": [
    {
     "name": "stdout",
     "output_type": "stream",
     "text": [
      "Monti Hines\n"
     ]
    }
   ],
   "source": [
    "myname = '        mONTI hINEs     '\n",
    "\n",
    "print(myname.strip().title())"
   ]
  },
  {
   "cell_type": "markdown",
   "metadata": {},
   "source": [
    "##### Modifying an Attribute's Value Through a Method"
   ]
  },
  {
   "cell_type": "code",
   "execution_count": null,
   "metadata": {},
   "outputs": [],
   "source": []
  },
  {
   "cell_type": "code",
   "execution_count": null,
   "metadata": {},
   "outputs": [],
   "source": []
  },
  {
   "cell_type": "markdown",
   "metadata": {},
   "source": [
    "##### Incrementing an Attribute's Value Through a Method"
   ]
  },
  {
   "cell_type": "code",
   "execution_count": null,
   "metadata": {},
   "outputs": [],
   "source": []
  },
  {
   "cell_type": "markdown",
   "metadata": {},
   "source": [
    "##### In-Class Exercise #3 - Add two methods to your car class. One method called `drive` that will take in the number of miles and decrease that car's `gas_level` by 1 unit for every 5 miles. Another method called `fill_up` will take in gallons and increase the `gas_level` by 10 units for every gallon."
   ]
  },
  {
   "cell_type": "code",
   "execution_count": 82,
   "metadata": {},
   "outputs": [
    {
     "name": "stdout",
     "output_type": "stream",
     "text": [
      "the Black Honda Accord gas level is at 91\n",
      "the Red Nissan Sentra gas level is at 41\n",
      "the Silver Toyota Corolla gas level is at 79\n",
      "=========================\n",
      "the Black Honda Accord gas level is at 111\n",
      "the Red Nissan Sentra gas level is at 101\n",
      "the Silver Toyota Corolla gas level is at 109\n"
     ]
    }
   ],
   "source": [
    "class Car():\n",
    "    wheels = 4\n",
    "    engine = 2.5\n",
    "    def __init__(self, make, model, color, gas_level = 100):\n",
    "        self.make = make\n",
    "        self.model = model\n",
    "        self.color = color\n",
    "        self.gas_level = gas_level\n",
    "        \n",
    "    def drive(self, miles_driven):\n",
    "        unit_decrease = miles_driven//5\n",
    "        self.gas_level-=unit_decrease\n",
    "        print(f\"the {self.color} {self.make} {self.model} gas level is at {self.gas_level}\")\n",
    "        \n",
    "    def fill_up(self, gallons):\n",
    "        unit_increase = gallons*10\n",
    "        self.gas_level+=unit_increase\n",
    "        print(f\"the {self.color} {self.make} {self.model} gas level is at {self.gas_level}\")\n",
    "        \n",
    "car1 = Car('Honda', 'Accord', 'Black')\n",
    "car2 = Car('Nissan', 'Sentra', 'Red', 50)\n",
    "car3 = Car('Toyota', 'Corolla', 'Silver', 88)\n",
    "\n",
    "car1.drive(45)\n",
    "car2.drive(45)\n",
    "car3.drive(45)\n",
    "print('='*25)\n",
    "\n",
    "car1.fill_up(2)\n",
    "car2.fill_up(6)\n",
    "car3.fill_up(3)"
   ]
  },
  {
   "cell_type": "markdown",
   "metadata": {},
   "source": [
    "## Classes as Attributes <br>\n",
    "<p>Classes can also be used as attributes within another class. This is useful in situations where you need to keep variables locally stored, instead of globally stored.</p>"
   ]
  },
  {
   "cell_type": "code",
   "execution_count": null,
   "metadata": {},
   "outputs": [],
   "source": [
    "class Album:\n",
    "    def __init__(self, title, artist, release_year, songlist = []):\n",
    "        self.title = title\n",
    "        self.artist = artist\n",
    "        self.release_year = release_year\n",
    "        self.song_list = song_list\n",
    "        \n",
    "class Song():\n",
    "    def __init__(self, name, length):\n",
    "        self.name = name\n",
    "        self.length = length\n",
    "        \n",
    "    def play(slef):\n",
    "        print(f\"{self.name} is playing the next {self.length}\")\n",
    "        \n"
   ]
  },
  {
   "cell_type": "code",
   "execution_count": null,
   "metadata": {},
   "outputs": [],
   "source": []
  },
  {
   "cell_type": "code",
   "execution_count": null,
   "metadata": {},
   "outputs": [],
   "source": []
  },
  {
   "cell_type": "markdown",
   "metadata": {},
   "source": [
    "# Exercises"
   ]
  },
  {
   "cell_type": "markdown",
   "metadata": {},
   "source": [
    "### Exercise 1 - Turn the shopping cart program into an object-oriented program"
   ]
  },
  {
   "cell_type": "code",
   "execution_count": 6,
   "metadata": {},
   "outputs": [
    {
     "name": "stdout",
     "output_type": "stream",
     "text": [
      "{'customer_name': 'Monti', 'cart': ['Platano', 'Arroz', 'Chicharon']}\n",
      "================================================================================\n",
      "{'customer_name': 'Nicaurys', 'cart': ['Pica Pollo', 'Chinola', 'Habichuelas']}\n",
      "================================================================================\n",
      "{'customer_name': 'Rina', 'cart': ['Morir Soñando', 'Guava', 'Mango']}\n",
      "================================================================================\n"
     ]
    }
   ],
   "source": [
    "# Create a class called cart that retains items and has methods to add, remove, and show\n",
    "\n",
    "class Shop_Cart():\n",
    "    def __init__(self, customer_name):\n",
    "        self.customer_name = customer_name\n",
    "        self.cart = []\n",
    "        \n",
    "    def add_cart_item(self, cart_item):\n",
    "        self.cart.append(cart_item)\n",
    "    \n",
    "    def remove_cart_item(self, cart_item):\n",
    "        self.cart.remove(cart_item)\n",
    "    \n",
    "    def show_cart(self):\n",
    "        for cart_items in self.cart:\n",
    "            print(cart_items)\n",
    "            \n",
    "            \n",
    "            \n",
    "mycart = Shop_Cart('Monti')    \n",
    "mycart2 = Shop_Cart('Nicaurys')\n",
    "mycart3 = Shop_Cart('Rina') \n",
    "\n",
    "mycart.add_cart_item(\"Platano\")\n",
    "mycart.add_cart_item(\"Arroz\")\n",
    "mycart.add_cart_item(\"Chicharon\") \n",
    "\n",
    "mycart2.add_cart_item(\"Pica Pollo\")\n",
    "mycart2.add_cart_item(\"Chinola\")\n",
    "mycart2.add_cart_item(\"Habichuelas\")\n",
    "\n",
    "mycart3.add_cart_item(\"Morir Soñando\")\n",
    "mycart3.add_cart_item(\"Guava\")\n",
    "mycart3.add_cart_item(\"Mango\")\n",
    "\n",
    "\n",
    "print(mycart.__dict__)\n",
    "print('='*80)\n",
    "print(mycart2.__dict__)\n",
    "print('='*80)\n",
    "print(mycart3.__dict__)\n",
    "print('='*80)"
   ]
  },
  {
   "cell_type": "code",
   "execution_count": 7,
   "metadata": {},
   "outputs": [
    {
     "name": "stdout",
     "output_type": "stream",
     "text": [
      "Platano\n",
      "Arroz\n",
      "Chicharon\n",
      "==================================================\n",
      "Pica Pollo\n",
      "Chinola\n",
      "Habichuelas\n",
      "==================================================\n",
      "Morir Soñando\n",
      "Guava\n",
      "Mango\n"
     ]
    }
   ],
   "source": [
    "mycart.show_cart()\n",
    "print('='*50)\n",
    "mycart2.show_cart()\n",
    "print('='*50)\n",
    "mycart3.show_cart()"
   ]
  },
  {
   "cell_type": "code",
   "execution_count": 8,
   "metadata": {},
   "outputs": [],
   "source": [
    "mycart.remove_cart_item(\"Chicharon\")\n",
    "mycart2.remove_cart_item(\"Pica Pollo\")\n",
    "mycart3.remove_cart_item(\"Guava\")"
   ]
  },
  {
   "cell_type": "code",
   "execution_count": 9,
   "metadata": {},
   "outputs": [
    {
     "name": "stdout",
     "output_type": "stream",
     "text": [
      "Platano\n",
      "Arroz\n",
      "====================\n",
      "Chinola\n",
      "Habichuelas\n",
      "====================\n",
      "Morir Soñando\n",
      "Mango\n"
     ]
    }
   ],
   "source": [
    "mycart.show_cart()\n",
    "print('='*20)\n",
    "mycart2.show_cart()\n",
    "print('='*20)\n",
    "mycart3.show_cart()"
   ]
  },
  {
   "cell_type": "code",
   "execution_count": 10,
   "metadata": {},
   "outputs": [
    {
     "name": "stdout",
     "output_type": "stream",
     "text": [
      "{'customer_name': 'Monti', 'cart': ['Platano', 'Arroz']}\n",
      "================================================================================\n",
      "{'customer_name': 'Nicaurys', 'cart': ['Chinola', 'Habichuelas']}\n",
      "================================================================================\n",
      "{'customer_name': 'Rina', 'cart': ['Morir Soñando', 'Mango']}\n",
      "================================================================================\n"
     ]
    }
   ],
   "source": [
    "print(mycart.__dict__)\n",
    "print('='*80)\n",
    "print(mycart2.__dict__)\n",
    "print('='*80)\n",
    "print(mycart3.__dict__)\n",
    "print('='*80)"
   ]
  },
  {
   "cell_type": "markdown",
   "metadata": {},
   "source": [
    "### Exercise 2 - Write a Python class for an Animal that has a name and energy attributes. The animal class should also have methods for eat, sleep, and play that will take in an integer and increase/decrease the energy of the animal with a formatted print statement"
   ]
  },
  {
   "cell_type": "code",
   "execution_count": null,
   "metadata": {},
   "outputs": [],
   "source": [
    "# Example 1\n",
    "# buddy = Animal('Buddy', 10)\n",
    "# buddy.play(5) -> \"Buddy is playing for 5 minutes. His energy is now 5\"\n",
    "# buddy.sleep(10) -> \"Buddy is sleeping for 5 minutes. His energy is now 15\""
   ]
  },
  {
   "cell_type": "code",
   "execution_count": 11,
   "metadata": {},
   "outputs": [],
   "source": [
    "class Animal:\n",
    "    \n",
    "    def __init__(self, name, energy_level = 100):\n",
    "        self.name = name\n",
    "        self.energy_level = energy_level\n",
    "\n",
    "    def eat(self, food):\n",
    "        self.energy_level += food+5\n",
    "        print(f\"{self.name} is eating to increased his energy level by {food}!\")\n",
    "\n",
    "    def sleep(self, sleep_time):\n",
    "        self.energy_level += sleep_time*2\n",
    "        print(f\"While {self.name} is sleeping, his energy level has increased by {sleep_time}!\")\n",
    "\n",
    "    def play(self, play_time):\n",
    "        self.energy_level -= play_time//2\n",
    "        print(f\"When {self.name} is playing, his energy level drops by {play_time}!\")\n"
   ]
  },
  {
   "cell_type": "code",
   "execution_count": 12,
   "metadata": {},
   "outputs": [
    {
     "name": "stdout",
     "output_type": "stream",
     "text": [
      "Lobo is eating to increased his energy level by 4!\n",
      "While Lobo is sleeping, his energy level has increased by 2!\n",
      "When Lobo is playing, his energy level drops by 5!\n",
      "==================================================\n",
      "{'name': 'Lobo', 'energy_level': 86}\n"
     ]
    }
   ],
   "source": [
    "\n",
    "wolf = Animal(\"Lobo\", 75)\n",
    "orca = Animal(\"Willy\")\n",
    "\n",
    "wolf.eat(4)\n",
    "wolf.sleep(2)\n",
    "wolf.play(5)\n",
    "\n",
    "print('='*50)\n",
    "\n",
    "print(wolf.__dict__)"
   ]
  },
  {
   "cell_type": "code",
   "execution_count": 13,
   "metadata": {},
   "outputs": [
    {
     "name": "stdout",
     "output_type": "stream",
     "text": [
      "Willy is eating to increased his energy level by 10!\n",
      "While Willy is sleeping, his energy level has increased by 5!\n",
      "When Willy is playing, his energy level drops by 25!\n",
      "==================================================\n",
      "{'name': 'Willy', 'energy_level': 113}\n"
     ]
    }
   ],
   "source": [
    "orca.eat(10)\n",
    "orca.sleep(5)\n",
    "orca.play(25)\n",
    "\n",
    "print('='*50)\n",
    "\n",
    "print(orca.__dict__)"
   ]
  }
 ],
 "metadata": {
  "kernelspec": {
   "display_name": "Python 3 (ipykernel)",
   "language": "python",
   "name": "python3"
  },
  "language_info": {
   "codemirror_mode": {
    "name": "ipython",
    "version": 3
   },
   "file_extension": ".py",
   "mimetype": "text/x-python",
   "name": "python",
   "nbconvert_exporter": "python",
   "pygments_lexer": "ipython3",
   "version": "3.9.13"
  }
 },
 "nbformat": 4,
 "nbformat_minor": 2
}
